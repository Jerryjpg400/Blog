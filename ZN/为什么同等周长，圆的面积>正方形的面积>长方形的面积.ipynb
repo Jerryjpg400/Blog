{
 "cells": [
  {
   "cell_type": "markdown",
   "metadata": {},
   "source": [
    "## 为什么同等周长，圆的面积>正方形的面积>长方形的面积"
   ]
  },
  {
   "cell_type": "markdown",
   "metadata": {},
   "source": [
    "我尝试用用中文搜索了这个问题，但是始终没有找到一个比较满意的答案，所以自己解决后写了一个。"
   ]
  },
  {
   "cell_type": "markdown",
   "metadata": {},
   "source": [
    "圆的面积表示为$A$,\n",
    "正方形的面积表示为$B$,\n",
    "长方形的面积表示为$C$\n",
    "\n",
    "设周长为L (假设以一个周长L的线分别围出 **圆，正方形， 长方形**)<br/>\n"
   ]
  },
  {
   "cell_type": "markdown",
   "metadata": {},
   "source": [
    "\n",
    "### 求圆的面积\n",
    "根据圆的周长公式\n",
    "$L = 2\\pi r$\n",
    "\n",
    "可得圆的半径\n",
    "$r = \\frac{L}{2\\pi}$\n",
    "\n",
    "根据圆的面积公式\n",
    "$S_圆 = \\pi r^{2}$\n",
    "\n",
    "可得圆的面积\n",
    "$S_圆 = \\pi (\\frac{L}{2\\pi})^2$ = $\\pi \\frac{L^2}{4\\pi^2}$ = $\\frac{L^2}{4\\pi}$\n",
    "\n"
   ]
  },
  {
   "cell_type": "markdown",
   "metadata": {},
   "source": [
    "### 求正方形的面积\n",
    "\n",
    "设正方形的边长为$x$\n",
    "\n",
    "根据正方形的周长公式\n",
    "\n",
    "$L = 4x$\n",
    "\n",
    "可得正方形的边长为\n",
    "\n",
    "$x = \\frac{L}{4}$\n",
    "\n",
    "根据正方形的面积公式\n",
    "\n",
    "$S_正 = x^2$ = $(\\frac{L}{4})^2$ = $\\frac{L^2}{16}$"
   ]
  },
  {
   "cell_type": "markdown",
   "metadata": {},
   "source": [
    "### 求长方形的面积\n",
    "\n",
    "设长方形的宽为$x$，长为$\\frac{L}{2}-x$\n",
    "\n",
    "根据长方形的面积公式\n",
    "\n",
    "$S_长 = 长 * 宽$\n",
    "\n",
    "$S_长 = x(\\frac{L}{2}-x)$ = $-x^2 + (\\frac{L}{2})x$"
   ]
  },
  {
   "cell_type": "markdown",
   "metadata": {},
   "source": [
    "### 比较长方形和正方形的面积大小在同等周长L下\n",
    "我们假设已经知道正方形是特殊的长方形（矩形）\n",
    "\n",
    "我们从上面通过长方形的面积公式中得出一个一元二次方程，联系一元二次函数的图像性质\n",
    "\n",
    "> 在一个一元二次方程 $y=ax^2+bx+c$ 中，函数的顶点可以表示为$(-\\frac{b}{2a},\\frac{4ac-b^2}{4a})$。<br/>\n",
    "且当a < 0时，函数图像开口向下，这意味着顶点就是函数的最大值<br/>\n",
    "\n",
    "也就是说在这个长方形的面积公式中，<br/>\n",
    "当$x = -\\frac{b}{2a}$时，<br/>\n",
    "长方形有最大面积$S_{长方形最大面积} = \\frac{4ac-b^2}{4a}$\n",
    "\n",
    "由$S_长$可得\n",
    "\n",
    "a = -1, b = $\\frac{L}{2}$, c = 0\n",
    "\n",
    "$S_{长方形最大面积} = \\frac{4ac-b^2}{4a}$ = $-\\frac{(\\frac{L}{2})^2}{-4}$ = $(\\frac{L}{2})^2 \\cdot \\frac{1}{4}$ = $\\frac{L^2}{16}$\n",
    "\n"
   ]
  },
  {
   "cell_type": "markdown",
   "metadata": {},
   "source": [
    "Emmmmmmmmmm，对的，没错，当一个长方形有最大值时，它的面积等于同等周长的正方形的面积。也就是说在长方形的特殊状态下（正方形）拥有最大面积。也就是说同等周长下长宽不等的这类长方形的面积都不会大于正方形形态的矩形。\n",
    "\n",
    "既然同等周长下长方形的面积小于正方形的面积，那么我们继续比较圆和正方形的面积。\n"
   ]
  },
  {
   "cell_type": "markdown",
   "metadata": {},
   "source": [
    "圆的面积\n",
    "$S_圆 = \\frac{L^2}{4\\pi}$\n",
    "\n",
    "正方形的面积\n",
    "$S_正 = \\frac{L^2}{16}$\n",
    "\n",
    "当 $\\pi \\approx 3.1415$ 时，$S_圆$ > $S_正$"
   ]
  },
  {
   "cell_type": "markdown",
   "metadata": {},
   "source": [
    "所以，从上面的计算我们可以得知在同等周长的情况下。\n",
    "\n",
    "$S_圆$ > $S_正$ > $S_长$"
   ]
  },
  {
   "cell_type": "markdown",
   "metadata": {},
   "source": [
    "<blockquote class=\"blockquote-center\">\n",
    "声明: 本文转载前需与作者联系并标明出处。\n",
    "</blockquote>"
   ]
  },
  {
   "cell_type": "code",
   "execution_count": null,
   "metadata": {},
   "outputs": [],
   "source": []
  }
 ],
 "metadata": {
  "kernelspec": {
   "display_name": "Python 3",
   "language": "python",
   "name": "python3"
  },
  "language_info": {
   "codemirror_mode": {
    "name": "ipython",
    "version": 3
   },
   "file_extension": ".py",
   "mimetype": "text/x-python",
   "name": "python",
   "nbconvert_exporter": "python",
   "pygments_lexer": "ipython3",
   "version": "3.7.6"
  }
 },
 "nbformat": 4,
 "nbformat_minor": 4
}
